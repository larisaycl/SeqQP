{
 "cells": [
  {
   "cell_type": "code",
   "execution_count": null,
   "id": "a7a6d641",
   "metadata": {},
   "outputs": [],
   "source": [
    "import numpy as np\n",
    "import sympy as sym\n",
    "from sqp import SQP\n",
    "from test_functions import *\n",
    "import matplotlib.pyplot as plt\n",
    "import matplotlib\n",
    "from scipy.optimize import minimize\n",
    "\n",
    "\n",
    "matplotlib.rcParams['font.family'] = 'serif'\n",
    "matplotlib.rcParams['font.serif'] = ['Times New Roman'] + plt.rcParams['font.serif']\n",
    "\n",
    "color = ['tab:blue',\n",
    "        'tab:orange',\n",
    "        'tab:green',\n",
    "        'tab:red',\n",
    "        'tab:purple',\n",
    "        'tab:brown',\n",
    "        'tab:pink',\n",
    "        'tab:gray',\n",
    "        'tab:olive',\n",
    "        'tab:cyan']\n"
   ]
  },
  {
   "cell_type": "code",
   "execution_count": null,
   "id": "7cbee5b1",
   "metadata": {},
   "outputs": [],
   "source": [
    "def plot_optimization_history(res, axs, label):\n",
    "    x_history = res.x_history\n",
    "    obj_history = res.obj_history\n",
    "\n",
    "    num_iters = len(x_history)\n",
    "    x_plot = np.linspace(1, num_iters, num_iters)\n",
    "\n",
    "    axs[0].plot(x_plot, obj_history, label=label)\n",
    "    axs[1].plot(x_plot, x_history[:, 0], label=label)\n",
    "    axs[2].plot(x_plot, x_history[:, 1], label=label)"
   ]
  },
  {
   "cell_type": "code",
   "execution_count": null,
   "id": "aa59f332",
   "metadata": {},
   "outputs": [],
   "source": [
    "def test_optimization(func, x0):\n",
    "    res1 = SQP(func, x0, method='simplex')\n",
    "    res2 = SQP(func, x0, method='linprog')\n",
    "    res3 = SQP(func, x0, method='QP')\n",
    "    res4 = func.optimize(x0)\n",
    "    return res1, res2, res3, res4\n",
    "\n",
    "def viz_optimization_history(res1, res2, res3, res4):\n",
    "    fig, axs = plt.subplots(1, 3, figsize=(20, 7))\n",
    "\n",
    "    plot_optimization_history(res1, axs, 'our simplex method')\n",
    "    plot_optimization_history(res2, axs, 'scipy linprog')\n",
    "    plot_optimization_history(res3, axs, 'scipy SQP')\n",
    "    plt.legend()"
   ]
  },
  {
   "cell_type": "code",
   "execution_count": null,
   "id": "450b6452",
   "metadata": {},
   "outputs": [],
   "source": [
    "print(\"Optimizing Parabola 2D constrained by line\")\n",
    "p_r1, p_r2, p_r3, p_r4 = test_optimization(Parabola2D(), [0.0, 0.0])\n"
   ]
  },
  {
   "cell_type": "code",
   "execution_count": null,
   "id": "0385171d",
   "metadata": {},
   "outputs": [],
   "source": [
    "print(\"Optimizing Rosenbrock constrained to disk\")\n",
    "rd_r1, rd_r2, rd_r3, rd_r4 = test_optimization(RosenbrockDisk(), [0.0, 0.0])\n"
   ]
  },
  {
   "cell_type": "code",
   "execution_count": null,
   "id": "dfc607ad",
   "metadata": {},
   "outputs": [],
   "source": [
    "print(\"Optimizing Rosenbrock constrained to cubic and line\")\n",
    "rcl_r1, rcl_r2, rcl_r3, rcl_r4 = test_optimization(RosenbrockCubicLine(), [0.0, 0.0])"
   ]
  },
  {
   "cell_type": "code",
   "execution_count": null,
   "id": "c3de6f4a",
   "metadata": {},
   "outputs": [],
   "source": [
    "print(\"Optimizing Dixon Price constrained to disk\")\n",
    "dpd_r1, dpd_r2, dpd_r3, dpd_r4 = test_optimization(DixonPriceDisk(), [0.0, 0.0])\n"
   ]
  },
  {
   "cell_type": "code",
   "execution_count": null,
   "id": "8862039d",
   "metadata": {},
   "outputs": [],
   "source": [
    "print(\"Optimizing Booth constrained to disk\")\n",
    "bd_r1, bd_r2, bd_r3, bd_r4 = test_optimization(BoothDisk(), [0.0, 0.0])\n"
   ]
  },
  {
   "cell_type": "code",
   "execution_count": null,
   "id": "241284d3",
   "metadata": {},
   "outputs": [],
   "source": [
    "print(\"Optimizing six hump camel constrained to disk\")\n",
    "shc_r1, shc_r2, shc_r3, shc_r4 = test_optimization(SixHumpCamel(), [3.0, 2.0])\n"
   ]
  },
  {
   "cell_type": "code",
   "execution_count": null,
   "id": "0ce0f3ca",
   "metadata": {},
   "outputs": [],
   "source": []
  }
 ],
 "metadata": {
  "kernelspec": {
   "display_name": "Python 3",
   "language": "python",
   "name": "python3"
  },
  "language_info": {
   "codemirror_mode": {
    "name": "ipython",
    "version": 3
   },
   "file_extension": ".py",
   "mimetype": "text/x-python",
   "name": "python",
   "nbconvert_exporter": "python",
   "pygments_lexer": "ipython3",
   "version": "3.10.0"
  }
 },
 "nbformat": 4,
 "nbformat_minor": 5
}
